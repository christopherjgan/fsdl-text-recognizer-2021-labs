{
    "cells": [
        {
            "cell_type": "code",
            "execution_count": 2,
            "metadata": {},
            "outputs": [],
            "source": [
                "import pandas as pd\n",
                "import numpy as np\n",
                "import pickle\n",
                "import json\n",
                "import glob\n",
                "import math\n",
                "import matplotlib.mlab as mlab\n",
                "import matplotlib.pyplot as plt\n",
                "import seaborn as sns\n",
                "import datetime\n",
                "import time\n",
                "import random\n",
                "from datetime import datetime, timedelta \n",
                "from itertools import permutations \n",
                "import os\n",
                "import requests\n",
                "import sklearn\n",
                "from pandas.tseries.offsets import MonthEnd, MonthBegin\n",
                "from dateutil import relativedelta\n",
                "from sklearn.linear_model import LogisticRegression\n",
                "from sklearn.neighbors import KNeighborsClassifier\n",
                "from sklearn.tree import DecisionTreeClassifier\n",
                "from sklearn.ensemble import RandomForestClassifier\n",
                "from statsmodels.graphics.tsaplots import plot_acf\n",
                "from sklearn.metrics import mean_squared_error\n",
                "from statsmodels.tsa.seasonal import seasonal_decompose\n",
                "from statsmodels.tsa.stattools import adfuller\n",
                "from sklearn.model_selection import TimeSeriesSplit\n",
                "from statsmodels.graphics.gofplots import qqplot\n",
                "from statsmodels.tsa.ar_model import AR\n",
                "from statsmodels.tsa.arima_model import ARIMA\n",
                "#sudo python3 -m pip install pandas\n",
                "\n",
                "pd.set_option('display.max_columns', 500)\n",
                "pd.set_option('display.max_rows', 40)\n",
                "plt.rc('figure', figsize=(18, 3))"
            ]
        },
        {
            "cell_type": "code",
            "execution_count": 3,
            "metadata": {},
            "outputs": [],
            "source": [
                "# Download data, if not yet in directory\n",
                "for filename in ['mnist_train.csv', 'mnist_test.csv']:\n",
                "    if os.path.exists(filename):\n",
                "        continue\n",
                "    resp = requests.get(f'https://www.python-course.eu/data/mnist/{filename}')\n",
                "    if resp.ok:\n",
                "        with open(filename, mode='wb') as handle:\n",
                "            handle.write(resp.content)\n",
                "    else:\n",
                "        print(f\"LINK FAILED: {url}\")"
            ]
        },
        {
            "cell_type": "code",
            "execution_count": 14,
            "metadata": {},
            "outputs": [],
            "source": [
                "raw_data_test = pd.read_csv('mnist_test.csv', header=None)\n",
                "raw_data_train = pd.read_csv('mnist_train.csv', header=None)"
            ]
        },
        {
            "cell_type": "code",
            "execution_count": 15,
            "metadata": {},
            "outputs": [],
            "source": [
                "response_test = np.eye(10)[raw_data_test.iloc[0:,0]].astype(int) #one hot encode the response vector\n",
                "data_test = np.array(raw_data_test.iloc[0:,1:])/255\n",
                "\n",
                "response_training = np.eye(10)[raw_data_train.iloc[0:,0]].astype(int) #one hot encode the response vector\n",
                "data_training = np.array(raw_data_train.iloc[0:,1:])/255\n",
                "\n",
                "num_input_layer = data_test.shape[1]"
            ]
        },
        {
            "cell_type": "code",
            "execution_count": null,
            "metadata": {},
            "outputs": [
                {
                    "data": {
                        "text/plain": [
                            "<matplotlib.image.AxesImage at 0x14ca36280>"
                        ]
                    },
                    "execution_count": 14,
                    "metadata": {},
                    "output_type": "execute_result"
                },
                {
                    "data": {
                        "image/png": "[encoded data removed]",
                        "text/plain": [
                            "<Figure size 1296x216 with 1 Axes>"
                        ]
                    },
                    "metadata": {
                        "needs_background": "light"
                    },
                    "output_type": "display_data"
                }
            ],
            "source": [
                "from matplotlib.pyplot import imshow\n",
                "img_data = raw_data_train.iloc[3, 1:].values.reshape((28, 28))\n",
                "imshow(img_data, cmap='Greys')"
            ]
        },
        {
            "cell_type": "code",
            "execution_count": null,
            "metadata": {},
            "outputs": [],
            "source": [
                "#activation functions\n",
                "def relu(x):\n",
                "    return x if x >= 0 else 0\n",
                "\n",
                "def sigmoid(x):\n",
                "    return 1/(1+np.exp(-x))\n",
                "\n",
                "def sigmoid_derivative(x):\n",
                "    return sigmoid(x) * (1 - sigmoid(x))\n",
                "\n",
                "def cost(y, a):\n",
                "    return 0.5 / y.shape[0] * ((y - a)**2).sum()\n",
                "\n",
                "def cost_derivative_wrt_a(y, a):\n",
                "    return a - y\n",
                "\n",
                "def export_linear(x, weight, bias):\n",
                "    z = x @ weight + bias #can change this to a RELU function instead too\n",
                "    return sigmoid(z)\n",
                "\n",
                "#np.multiple is component-wise multiplication i.e. [2,3] * [3,6] = [6,18]\n",
                "#modelling a neuron dimensions: x * y ==> input dim * output dim\n",
                "class Linear():\n",
                "    def __init__(self, input_dim, output_dim):\n",
                "        self.weight = np.random.randn(input_dim, output_dim) #dimensions\n",
                "        self.bias = np.random.randn(output_dim) #dimensions\n",
                "    \n",
                "    def __call__(self, x):\n",
                "        self.z = x @ self.weight+ self.bias #can change this to a RELU function instead too\n",
                "        return sigmoid(self.z)\n",
                "\n",
                "class MLP():\n",
                "    def __init__(self, hidden_layers, dim_neurons):       \n",
                "        self.hidden_layers = hidden_layers\n",
                "        self.dim_neurons = dim_neurons\n",
                "        self.fc_dim = [dim_neurons] * hidden_layers #creates a table specifying the number of neurons in each layer\n",
                "\n",
                "        #Initialise Linear layers\n",
                "        self.fc = []\n",
                "        fc_input = Linear(num_input_layer, self.fc_dim[0]) #Create first feedforward layer\n",
                "        self.fc.append(fc_input)\n",
                "\n",
                "        for i in range(0, self.hidden_layers): #Create additional hidden layers\n",
                "            self.fc.append(Linear(self.fc_dim[i-1], self.fc_dim[i])) \n",
                "        fc_output = Linear(self.fc_dim[self.hidden_layers-1], response_test.shape[1]) #Create output layer\n",
                "        \n",
                "        self.fc.append(fc_output)\n",
                "    \n",
                "    def forward(self, x):\n",
                "\n",
                "        #forward pass\n",
                "        for i in range(0, len(self.fc)):\n",
                "            x = self.fc[i](x) #loop through all the linear hidden layers\n",
                "        self.x_L = x\n",
                "        return self.x_L\n",
                "\n",
                "\n",
                "    def backprop(self, x, y):\n",
                "        #number of layers in the neural net, excluding the input layer\n",
                "        self.L = len(self.fc)\n",
                "\n",
                "        #feedforward\n",
                "        self.forward(x)\n",
                "\n",
                "        #create output error\n",
                "        self.fc[-1].delta = cost_derivative_wrt_a(y, self.x_L) * sigmoid_derivative(self.fc[-1].z) \n",
                "        \n",
                "        #backpropagate the error\n",
                "        for i in range(self.L - 1, 0, -1):\n",
                "            self.fc[i-1].delta = (self.fc[i].delta @ self.fc[i].weight.T) * sigmoid_derivative(self.fc[i-1].z)\n",
                "        \n",
                "        #calculate nablas for gradient descent\n",
                "        for i in range(self.L, 1, -1):\n",
                "            self.fc[i-1].nabla_weight = (sigmoid(self.fc[i-2].z).T @ self.fc[i-1].delta)\n",
                "            self.fc[i-1].nabla_bias = self.fc[i-1].delta.sum(axis=0)     \n",
                "\n",
                "        self.fc[0].nabla_weight = (x.T @ self.fc[0].delta)\n",
                "        self.fc[0].nabla_bias = self.fc[0].delta.sum(axis=0)  \n",
                "   \n",
                "\n",
                "    def update_mini_batch(self, mini_batch, learning_rate):\n",
                "        #update weights and biases for a mini batch sample\n",
                "        y = np.eye(10)[mini_batch.iloc[0:,0]].astype(int) #one hot encode the response vector\n",
                "        x = np.array(mini_batch.iloc[0:,1:])/255\n",
                " \n",
                "        m_size = x.shape[0]\n",
                "\n",
                "        self.backprop(x,y)\n",
                "\n",
                "        for i in range(self.L, 0, -1):\n",
                "            self.fc[i-1].weight = self.fc[i-1].weight - (learning_rate/m_size) * self.fc[i-1].nabla_weight \n",
                "            self.fc[i-1].bias = self.fc[i-1].bias - (learning_rate/m_size) * self.fc[i-1].nabla_bias\n",
                "\n",
                "    def evaluate(self, x, y):\n",
                "        prediction = np.argmax(self.forward(x), axis=1)\n",
                "        response = np.argmax(y, axis=1)\n",
                "        return (prediction == response).mean()\n",
                "        \n",
                "    def SGD(self, training, epochs, mini_batch_size, learning_rate):\n",
                "        #x is training_data\n",
                "        n_size = training.shape[0] #10,000 training data\n",
                "\n",
                "        for j in list(range(epochs)):\n",
                "            shuffle_training = sklearn.utils.shuffle(training) \n",
                "            mini_batches = [shuffle_training[k:k+mini_batch_size] for k in list(range(0, n_size, mini_batch_size))] #place into mini matches\n",
                "            \n",
                "            for i in mini_batches:\n",
                "                self.update_mini_batch(i, learning_rate)\n",
                "            \n",
                "            y = np.eye(10)[training.iloc[0:,0]].astype(int) #one hot encode the response vector\n",
                "            x = np.array(training.iloc[0:,1:])/255\n",
                "\n",
                "            print(f'Epoch {j} Completed - Accuracy {self.evaluate(data_training,response_training)}')\n",
                "\n"
            ]
        },
        {
            "cell_type": "code",
            "execution_count": null,
            "metadata": {},
            "outputs": [
                {
                    "name": "stdout",
                    "output_type": "stream",
                    "text": [
                        "Epoch 0 Completed - Accuracy 0.72095\n",
                        "Epoch 1 Completed - Accuracy 0.8021\n",
                        "Epoch 2 Completed - Accuracy 0.8146333333333333\n",
                        "Epoch 3 Completed - Accuracy 0.9109\n",
                        "Epoch 4 Completed - Accuracy 0.9182\n",
                        "Epoch 5 Completed - Accuracy 0.9254\n",
                        "Epoch 6 Completed - Accuracy 0.9213666666666667\n",
                        "Epoch 7 Completed - Accuracy 0.9213166666666667\n",
                        "Epoch 8 Completed - Accuracy 0.93735\n",
                        "Epoch 9 Completed - Accuracy 0.9368166666666666\n"
                    ]
                }
            ],
            "source": [
                "np.random.seed(420)\n",
                "nn = MLP(3,16)\n",
                "nn.SGD(raw_data_train, epochs = 10, mini_batch_size = 100, learning_rate = 8)\n"
            ]
        },
        {
            "cell_type": "code",
            "execution_count": null,
            "metadata": {},
            "outputs": [
                {
                    "name": "stdout",
                    "output_type": "stream",
                    "text": [
                        "Mean 0.6099118266889682, Std 0.45064467807322184\n",
                        "Min 1.8182796653574744e-11, Max 0.9999999999999696\n"
                    ]
                }
            ],
            "source": [
                "print(f'Mean {sigmoid(nn.fc[0].z).mean()}, Std {sigmoid(nn.fc[0].z).std()}')\n",
                "print(f'Min {sigmoid(nn.fc[0].z).min()}, Max {sigmoid(nn.fc[0].z).max()}')"
            ]
        },
        {
            "cell_type": "code",
            "execution_count": null,
            "metadata": {},
            "outputs": [
                {
                    "data": {
                        "text/plain": [
                            "0.9279"
                        ]
                    },
                    "execution_count": 306,
                    "metadata": {},
                    "output_type": "execute_result"
                }
            ],
            "source": [
                "nn.evaluate(data_test, response_test)"
            ]
        },
        {
            "cell_type": "code",
            "execution_count": null,
            "metadata": {},
            "outputs": [
                {
                    "data": {
                        "text/plain": [
                            "7"
                        ]
                    },
                    "execution_count": 45,
                    "metadata": {},
                    "output_type": "execute_result"
                }
            ],
            "source": [
                "import pickle\n",
                "import numpy as np\n",
                "\n",
                "def export_linear(x, weight, bias):\n",
                "    z = x @ weight + bias #can change this to a RELU function instead too\n",
                "    return sigmoid(z)\n",
                "\n",
                "def sigmoid(x):\n",
                "    return 1/(1+np.exp(-x))\n",
                "\n",
                "#weights\n",
                "model_weights = pickle.load( open( \"model_weights.pickle\", \"rb\" ))\n",
                "\n",
                "fc0_weight = model_weights[0]\n",
                "fc1_weight = model_weights[1]\n",
                "fc2_weight = model_weights[2]\n",
                "fc3_weight = model_weights[3]\n",
                "fc4_weight = model_weights[4]\n",
                "fc0_bias = model_weights[5]\n",
                "fc1_bias = model_weights[6]\n",
                "fc2_bias = model_weights[7]\n",
                "fc3_bias = model_weights[8]\n",
                "fc4_bias = model_weights[9]\n",
                "\n",
                "\n",
                "#input_string = str(np.array(raw_data_test.iloc[0,1:]).tolist()) #string input '[1, 2, ..., 3]' 784 elements\n",
                "x = np.fromstring(input_string[1:-1],sep=',').astype(int)/255\n",
                "x = export_linear(x, fc0_weight, fc0_bias) \n",
                "x = export_linear(x, fc1_weight, fc1_bias)\n",
                "x = export_linear(x, fc2_weight, fc2_bias)\n",
                "x = export_linear(x, fc3_weight, fc3_bias)\n",
                "x = export_linear(x, fc4_weight, fc4_bias)\n",
                "prediction = np.argmax(x)\n",
                "prediction"
            ]
        },
        {
            "cell_type": "code",
            "execution_count": null,
            "metadata": {},
            "outputs": [],
            "source": [
                "# ------- Steps\n",
                "# install numpy on AWS\n",
                "# use a numpy function on AWS\n",
                "# export weights and biases onto a notebook\n",
                "# input a test string into said model\n",
                "# input data of weights and biases into AWS\n",
                "# get lambda to read said data\n",
                "# convert string input into numpy\n"
            ]
        },
        {
            "cell_type": "code",
            "execution_count": null,
            "metadata": {},
            "outputs": [],
            "source": [
                "pickle_weights = [nn.fc[0].weight, nn.fc[1].weight, nn.fc[2].weight, nn.fc[3].weight, nn.fc[4].weight, nn.fc[0].bias, nn.fc[1].bias, nn.fc[2].bias, nn.fc[3].bias, nn.fc[4].bias]\n",
                "pickle.dump(pickle_test, open( \"model_weights.pickle\", \"wb\"))"
            ]
        },
        {
            "cell_type": "code",
            "execution_count": 18,
            "metadata": {},
            "outputs": [
                {
                    "name": "stdout",
                    "output_type": "stream",
                    "text": [
                        "[0, 0, 0, 0, 0, 0, 0, 0, 0, 0, 0, 0, 0, 0, 0, 0, 0, 0, 0, 0, 0, 0, 0, 0, 0, 0, 0, 0, 0, 0, 0, 0, 0, 0, 0, 0, 0, 0, 0, 0, 0, 0, 0, 0, 0, 0, 0, 0, 0, 0, 0, 0, 0, 0, 0, 0, 0, 0, 0, 0, 0, 0, 0, 0, 0, 0, 0, 0, 0, 0, 0, 0, 0, 0, 0, 0, 0, 0, 0, 0, 0, 0, 0, 0, 0, 0, 0, 0, 0, 0, 0, 0, 0, 0, 0, 0, 0, 0, 0, 0, 0, 0, 0, 0, 0, 0, 0, 0, 0, 0, 0, 0, 0, 0, 0, 0, 0, 0, 0, 0, 0, 0, 0, 0, 0, 0, 0, 0, 0, 0, 0, 0, 0, 0, 0, 0, 0, 0, 0, 0, 0, 0, 0, 0, 0, 0, 0, 0, 0, 0, 0, 0, 0, 0, 0, 0, 0, 0, 0, 0, 0, 0, 0, 0, 0, 0, 0, 0, 0, 0, 0, 0, 0, 0, 0, 0, 0, 0, 0, 0, 0, 0, 0, 0, 0, 0, 0, 0, 0, 0, 0, 0, 0, 0, 0, 0, 0, 0, 0, 0, 0, 0, 84, 185, 159, 151, 60, 36, 0, 0, 0, 0, 0, 0, 0, 0, 0, 0, 0, 0, 0, 0, 0, 0, 0, 0, 0, 0, 0, 0, 222, 254, 254, 254, 254, 241, 198, 198, 198, 198, 198, 198, 198, 198, 170, 52, 0, 0, 0, 0, 0, 0, 0, 0, 0, 0, 0, 0, 67, 114, 72, 114, 163, 227, 254, 225, 254, 254, 254, 250, 229, 254, 254, 140, 0, 0, 0, 0, 0, 0, 0, 0, 0, 0, 0, 0, 0, 0, 0, 0, 0, 17, 66, 14, 67, 67, 67, 59, 21, 236, 254, 106, 0, 0, 0, 0, 0, 0, 0, 0, 0, 0, 0, 0, 0, 0, 0, 0, 0, 0, 0, 0, 0, 0, 0, 0, 83, 253, 209, 18, 0, 0, 0, 0, 0, 0, 0, 0, 0, 0, 0, 0, 0, 0, 0, 0, 0, 0, 0, 0, 0, 0, 0, 22, 233, 255, 83, 0, 0, 0, 0, 0, 0, 0, 0, 0, 0, 0, 0, 0, 0, 0, 0, 0, 0, 0, 0, 0, 0, 0, 0, 129, 254, 238, 44, 0, 0, 0, 0, 0, 0, 0, 0, 0, 0, 0, 0, 0, 0, 0, 0, 0, 0, 0, 0, 0, 0, 0, 59, 249, 254, 62, 0, 0, 0, 0, 0, 0, 0, 0, 0, 0, 0, 0, 0, 0, 0, 0, 0, 0, 0, 0, 0, 0, 0, 0, 133, 254, 187, 5, 0, 0, 0, 0, 0, 0, 0, 0, 0, 0, 0, 0, 0, 0, 0, 0, 0, 0, 0, 0, 0, 0, 0, 9, 205, 248, 58, 0, 0, 0, 0, 0, 0, 0, 0, 0, 0, 0, 0, 0, 0, 0, 0, 0, 0, 0, 0, 0, 0, 0, 0, 126, 254, 182, 0, 0, 0, 0, 0, 0, 0, 0, 0, 0, 0, 0, 0, 0, 0, 0, 0, 0, 0, 0, 0, 0, 0, 0, 75, 251, 240, 57, 0, 0, 0, 0, 0, 0, 0, 0, 0, 0, 0, 0, 0, 0, 0, 0, 0, 0, 0, 0, 0, 0, 0, 19, 221, 254, 166, 0, 0, 0, 0, 0, 0, 0, 0, 0, 0, 0, 0, 0, 0, 0, 0, 0, 0, 0, 0, 0, 0, 0, 3, 203, 254, 219, 35, 0, 0, 0, 0, 0, 0, 0, 0, 0, 0, 0, 0, 0, 0, 0, 0, 0, 0, 0, 0, 0, 0, 0, 38, 254, 254, 77, 0, 0, 0, 0, 0, 0, 0, 0, 0, 0, 0, 0, 0, 0, 0, 0, 0, 0, 0, 0, 0, 0, 0, 31, 224, 254, 115, 1, 0, 0, 0, 0, 0, 0, 0, 0, 0, 0, 0, 0, 0, 0, 0, 0, 0, 0, 0, 0, 0, 0, 0, 133, 254, 254, 52, 0, 0, 0, 0, 0, 0, 0, 0, 0, 0, 0, 0, 0, 0, 0, 0, 0, 0, 0, 0, 0, 0, 0, 61, 242, 254, 254, 52, 0, 0, 0, 0, 0, 0, 0, 0, 0, 0, 0, 0, 0, 0, 0, 0, 0, 0, 0, 0, 0, 0, 0, 121, 254, 254, 219, 40, 0, 0, 0, 0, 0, 0, 0, 0, 0, 0, 0, 0, 0, 0, 0, 0, 0, 0, 0, 0, 0, 0, 0, 121, 254, 207, 18, 0, 0, 0, 0, 0, 0, 0, 0, 0, 0, 0, 0, 0, 0, 0, 0, 0, 0, 0, 0, 0, 0, 0, 0, 0, 0, 0, 0, 0, 0, 0, 0, 0, 0, 0, 0, 0, 0, 0, 0, 0, 0]\n"
                    ]
                },
                {
                    "data": {
                        "image/png": "[encoded data removed]",
                        "text/plain": [
                            "<Figure size 1296x216 with 1 Axes>"
                        ]
                    },
                    "metadata": {
                        "needs_background": "light"
                    },
                    "output_type": "display_data"
                }
            ],
            "source": [
                "raw = raw_data_test.iloc[0,1:]\n",
                "\n",
                "from matplotlib.pyplot import imshow\n",
                "img_data = raw.values.reshape((28, 28))\n",
                "imshow(img_data, cmap='Greys')\n",
                "print(str(np.array(raw).tolist()))"
            ]
        },
        {
            "cell_type": "code",
            "execution_count": null,
            "metadata": {},
            "outputs": [
                {
                    "ename": "TypeError",
                    "evalue": "'(0, slice(1, None, None))' is an invalid key",
                    "output_type": "error",
                    "traceback": [
                        "\u001b[0;31m---------------------------------------------------------------------------\u001b[0m",
                        "\u001b[0;31mTypeError\u001b[0m                                 Traceback (most recent call last)",
                        "\u001b[0;32m/var/folders/kl/51258jns34515hkl0d9mhb340000gn/T/ipykernel_74563/2101134798.py\u001b[0m in \u001b[0;36m<module>\u001b[0;34m\u001b[0m\n\u001b[0;32m----> 1\u001b[0;31m \u001b[0mraw_data_test\u001b[0m\u001b[0;34m[\u001b[0m\u001b[0;36m0\u001b[0m\u001b[0;34m,\u001b[0m\u001b[0;36m1\u001b[0m\u001b[0;34m:\u001b[0m\u001b[0;34m]\u001b[0m\u001b[0;34m\u001b[0m\u001b[0;34m\u001b[0m\u001b[0m\n\u001b[0m",
                        "\u001b[0;32m/Library/Frameworks/Python.framework/Versions/3.9/lib/python3.9/site-packages/pandas/core/frame.py\u001b[0m in \u001b[0;36m__getitem__\u001b[0;34m(self, key)\u001b[0m\n\u001b[1;32m   3456\u001b[0m             \u001b[0;32mif\u001b[0m \u001b[0mself\u001b[0m\u001b[0;34m.\u001b[0m\u001b[0mcolumns\u001b[0m\u001b[0;34m.\u001b[0m\u001b[0mnlevels\u001b[0m \u001b[0;34m>\u001b[0m \u001b[0;36m1\u001b[0m\u001b[0;34m:\u001b[0m\u001b[0;34m\u001b[0m\u001b[0;34m\u001b[0m\u001b[0m\n\u001b[1;32m   3457\u001b[0m                 \u001b[0;32mreturn\u001b[0m \u001b[0mself\u001b[0m\u001b[0;34m.\u001b[0m\u001b[0m_getitem_multilevel\u001b[0m\u001b[0;34m(\u001b[0m\u001b[0mkey\u001b[0m\u001b[0;34m)\u001b[0m\u001b[0;34m\u001b[0m\u001b[0;34m\u001b[0m\u001b[0m\n\u001b[0;32m-> 3458\u001b[0;31m             \u001b[0mindexer\u001b[0m \u001b[0;34m=\u001b[0m \u001b[0mself\u001b[0m\u001b[0;34m.\u001b[0m\u001b[0mcolumns\u001b[0m\u001b[0;34m.\u001b[0m\u001b[0mget_loc\u001b[0m\u001b[0;34m(\u001b[0m\u001b[0mkey\u001b[0m\u001b[0;34m)\u001b[0m\u001b[0;34m\u001b[0m\u001b[0;34m\u001b[0m\u001b[0m\n\u001b[0m\u001b[1;32m   3459\u001b[0m             \u001b[0;32mif\u001b[0m \u001b[0mis_integer\u001b[0m\u001b[0;34m(\u001b[0m\u001b[0mindexer\u001b[0m\u001b[0;34m)\u001b[0m\u001b[0;34m:\u001b[0m\u001b[0;34m\u001b[0m\u001b[0;34m\u001b[0m\u001b[0m\n\u001b[1;32m   3460\u001b[0m                 \u001b[0mindexer\u001b[0m \u001b[0;34m=\u001b[0m \u001b[0;34m[\u001b[0m\u001b[0mindexer\u001b[0m\u001b[0;34m]\u001b[0m\u001b[0;34m\u001b[0m\u001b[0;34m\u001b[0m\u001b[0m\n",
                        "\u001b[0;32m/Library/Frameworks/Python.framework/Versions/3.9/lib/python3.9/site-packages/pandas/core/indexes/base.py\u001b[0m in \u001b[0;36mget_loc\u001b[0;34m(self, key, method, tolerance)\u001b[0m\n\u001b[1;32m   3359\u001b[0m             \u001b[0mcasted_key\u001b[0m \u001b[0;34m=\u001b[0m \u001b[0mself\u001b[0m\u001b[0;34m.\u001b[0m\u001b[0m_maybe_cast_indexer\u001b[0m\u001b[0;34m(\u001b[0m\u001b[0mkey\u001b[0m\u001b[0;34m)\u001b[0m\u001b[0;34m\u001b[0m\u001b[0;34m\u001b[0m\u001b[0m\n\u001b[1;32m   3360\u001b[0m             \u001b[0;32mtry\u001b[0m\u001b[0;34m:\u001b[0m\u001b[0;34m\u001b[0m\u001b[0;34m\u001b[0m\u001b[0m\n\u001b[0;32m-> 3361\u001b[0;31m                 \u001b[0;32mreturn\u001b[0m \u001b[0mself\u001b[0m\u001b[0;34m.\u001b[0m\u001b[0m_engine\u001b[0m\u001b[0;34m.\u001b[0m\u001b[0mget_loc\u001b[0m\u001b[0;34m(\u001b[0m\u001b[0mcasted_key\u001b[0m\u001b[0;34m)\u001b[0m\u001b[0;34m\u001b[0m\u001b[0;34m\u001b[0m\u001b[0m\n\u001b[0m\u001b[1;32m   3362\u001b[0m             \u001b[0;32mexcept\u001b[0m \u001b[0mKeyError\u001b[0m \u001b[0;32mas\u001b[0m \u001b[0merr\u001b[0m\u001b[0;34m:\u001b[0m\u001b[0;34m\u001b[0m\u001b[0;34m\u001b[0m\u001b[0m\n\u001b[1;32m   3363\u001b[0m                 \u001b[0;32mraise\u001b[0m \u001b[0mKeyError\u001b[0m\u001b[0;34m(\u001b[0m\u001b[0mkey\u001b[0m\u001b[0;34m)\u001b[0m \u001b[0;32mfrom\u001b[0m \u001b[0merr\u001b[0m\u001b[0;34m\u001b[0m\u001b[0;34m\u001b[0m\u001b[0m\n",
                        "\u001b[0;32m/Library/Frameworks/Python.framework/Versions/3.9/lib/python3.9/site-packages/pandas/_libs/index.pyx\u001b[0m in \u001b[0;36mpandas._libs.index.IndexEngine.get_loc\u001b[0;34m()\u001b[0m\n",
                        "\u001b[0;32m/Library/Frameworks/Python.framework/Versions/3.9/lib/python3.9/site-packages/pandas/_libs/index.pyx\u001b[0m in \u001b[0;36mpandas._libs.index.IndexEngine.get_loc\u001b[0;34m()\u001b[0m\n",
                        "\u001b[0;31mTypeError\u001b[0m: '(0, slice(1, None, None))' is an invalid key"
                    ]
                }
            ],
            "source": [
                "raw_data_test.iloc[0,1:]"
            ]
        },
        {
            "cell_type": "code",
            "execution_count": 10,
            "metadata": {},
            "outputs": [
                {
                    "data": {
                        "text/plain": [
                            "array([3.07574010e-05, 4.61361015e-05])"
                        ]
                    },
                    "execution_count": 10,
                    "metadata": {},
                    "output_type": "execute_result"
                }
            ],
            "source": [
                "input_string = '[2,3]'\n",
                "x = np.fromstring(input_string[1:-1],sep=',')/255\n",
                "x = np.array(x)/255\n",
                "x"
            ]
        },
        {
            "cell_type": "code",
            "execution_count": 12,
            "metadata": {},
            "outputs": [
                {
                    "data": {
                        "text/plain": [
                            "1"
                        ]
                    },
                    "execution_count": 12,
                    "metadata": {},
                    "output_type": "execute_result"
                }
            ],
            "source": [
                "np.argmax(x)"
            ]
        },
        {
            "cell_type": "code",
            "execution_count": null,
            "metadata": {},
            "outputs": [],
            "source": []
        }
    ],
    "metadata": {
        "interpreter": {
            "hash": "aee8b7b246df8f9039afb4144a1f6fd8d2ca17a180786b69acc140d282b71a49"
        },
        "kernelspec": {
            "display_name": "Python 3.9.1 64-bit",
            "name": "python3"
        },
        "language_info": {
            "codemirror_mode": {
                "name": "ipython",
                "version": 3
            },
            "file_extension": ".py",
            "mimetype": "text/x-python",
            "name": "python",
            "nbconvert_exporter": "python",
            "pygments_lexer": "ipython3",
            "version": "3.9.1"
        },
        "orig_nbformat": 4
    },
    "nbformat": 4,
    "nbformat_minor": 2
}
